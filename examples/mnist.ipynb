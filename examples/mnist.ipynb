{
 "cells": [
  {
   "cell_type": "markdown",
   "metadata": {},
   "source": [
    "# Пример реализации полносвязной нейросети на MNIST\n",
    "---"
   ]
  },
  {
   "cell_type": "code",
   "execution_count": 1,
   "metadata": {},
   "outputs": [],
   "source": [
    "import os\n",
    "import sys\n",
    "\n",
    "# For dlf package import\n",
    "notebook_dir = os.path.split(os.getcwd())[0]\n",
    "if notebook_dir not in sys.path:\n",
    "    sys.path.append(notebook_dir)"
   ]
  },
  {
   "cell_type": "code",
   "execution_count": 2,
   "metadata": {},
   "outputs": [],
   "source": [
    "import numpy as np\n",
    "import matplotlib.pyplot as plt\n",
    "%matplotlib inline"
   ]
  },
  {
   "attachments": {},
   "cell_type": "markdown",
   "metadata": {},
   "source": [
    "## Данные\n",
    "Продемонстрирую работу своего мини-фрэймворка на классической  задачи распознавания рукописных цифр. Датасет состоит из пар X - изображение 28 на 28 пикселей со значениями яркости кажого пикселя от 0 до 1 и y - класс, изображённая цифра (0-9)."
   ]
  },
  {
   "cell_type": "code",
   "execution_count": 3,
   "metadata": {},
   "outputs": [],
   "source": [
    "def loader(X, Y, batch_size):    \n",
    "    n = X.shape[0]\n",
    "\n",
    "    # перемешиваем индексы\n",
    "    indices = np.arange(n)\n",
    "    np.random.shuffle(indices)\n",
    "    \n",
    "    for start in range(0, n, batch_size):\n",
    "        end = min(start + batch_size, n)\n",
    "        batch_idx = indices[start:end]\n",
    "\n",
    "        yield X[batch_idx], Y[batch_idx]"
   ]
  },
  {
   "cell_type": "markdown",
   "metadata": {},
   "source": [
    "Скачиваем датасет."
   ]
  },
  {
   "cell_type": "code",
   "execution_count": 4,
   "metadata": {},
   "outputs": [],
   "source": [
    "import os\n",
    "from sklearn.datasets import fetch_openml \n",
    "\n",
    "if os.path.exists('mnist.npz'):\n",
    "    data = np.load(\"mnist.npz\", allow_pickle=True)\n",
    "    X = data['X']\n",
    "    y = data['y']\n",
    "else:\n",
    "    mnist = fetch_openml(\"mnist_784\")\n",
    "    X = np.array(mnist.data / 255.0)\n",
    "    y = np.array(mnist.target.astype(int))\n",
    "    np.savez('mnist.npz', X=X, y=y)"
   ]
  },
  {
   "cell_type": "code",
   "execution_count": 5,
   "metadata": {},
   "outputs": [],
   "source": [
    "def onehot(y):\n",
    "    \"\"\"Onehot encorder.\"\"\"\n",
    "    y_onehot = np.zeros(shape=(len(y), 10))\n",
    "    y_onehot[np.arange(len(y)), y] = 1\n",
    "    return y_onehot\n",
    "\n",
    "def predict2class(predict):\n",
    "    \"\"\"Reverse operation to onehot.\"\"\"\n",
    "    return predict.argmax(axis=1)\n",
    "\n",
    "assert (predict2class(onehot(y)) == y).all(), \"Something go wrong with onehot encode/decode!\""
   ]
  },
  {
   "cell_type": "markdown",
   "metadata": {},
   "source": [
    "Делим данные на обучающию и тестовую выборку в соотношение 4 к 1."
   ]
  },
  {
   "cell_type": "code",
   "execution_count": 6,
   "metadata": {},
   "outputs": [],
   "source": [
    "def train_test_split(X, y, test_size):\n",
    "    train_end = int(np.ceil(len(X)*(1-test_size)))\n",
    "    X_train, y_train = X[:train_end], y[:train_end]\n",
    "    X_test, y_test = X[train_end:], y[train_end:]\n",
    "    return X_train, X_test, y_train, y_test\n",
    "\n",
    "X_train, X_test, y_train, y_test = train_test_split(X, onehot(y), .2)"
   ]
  },
  {
   "cell_type": "markdown",
   "metadata": {},
   "source": [
    "### Логи"
   ]
  },
  {
   "cell_type": "code",
   "execution_count": 7,
   "metadata": {},
   "outputs": [],
   "source": [
    "def _space_add(x, min_len=10):\n",
    "    return \" \"*(min_len-len(x)) + x if len(x) < min_len else x"
   ]
  },
  {
   "cell_type": "code",
   "execution_count": 8,
   "metadata": {},
   "outputs": [],
   "source": [
    "def print_log(accuracy_val, accuracy_train=None, spaces=10, **vec_metrics):\n",
    "    columns = \" \"\n",
    "    rows = [str(i) for i in range(10)]\n",
    "    for metric_name, data in vec_metrics.items():\n",
    "        columns += _space_add(metric_name, spaces)\n",
    "        for i in range(10):\n",
    "            rows[i] += _space_add(\"%.4f\" % data[i], spaces)\n",
    "\n",
    "    if len(rows[0]) > 1:\n",
    "        print(columns)\n",
    "        print(\"\\n\".join(rows) + \"\\n\")\n",
    "    if accuracy_train is not None:\n",
    "        print(\"accuracy_train: %.4f\" % accuracy_train)\n",
    "    print(\"accuracy_val: %.4f\" % accuracy_val)"
   ]
  },
  {
   "cell_type": "code",
   "execution_count": 9,
   "metadata": {},
   "outputs": [],
   "source": [
    "def print_confusion_matrix(conf_m, classes, spaces=10):\n",
    "    rows = [\" \" + \"\".join([_space_add(str(x), spaces) for x in range(10)]) + \" true\"]\n",
    "    for i, cl in enumerate(classes):\n",
    "        s = str(cl) + \"\".join([_space_add(\"%d\" % x, spaces) for x in conf_m[i]]) \n",
    "        rows.append(s)\n",
    "    print(\"\\n\".join(rows))\n",
    "    print(\"pred\")"
   ]
  },
  {
   "cell_type": "markdown",
   "metadata": {},
   "source": [
    "## Обучение модели"
   ]
  },
  {
   "cell_type": "code",
   "execution_count": 10,
   "metadata": {},
   "outputs": [],
   "source": [
    "from IPython.display import clear_output"
   ]
  },
  {
   "cell_type": "code",
   "execution_count": 11,
   "metadata": {},
   "outputs": [],
   "source": [
    "# 0 - просто эпоха\n",
    "# 1 - +accuracy_val\n",
    "# 2 - +accuracy_train\n",
    "# 3 - +f_score; +precision; +recall\n",
    "VERBOSITY = 2\n",
    "CLEAR_OUTPUT = False\n",
    "\n",
    "learning_rate = 1e-3\n",
    "batch_size = 128\n",
    "epochs = 60"
   ]
  },
  {
   "cell_type": "markdown",
   "metadata": {},
   "source": [
    "Создаём модель."
   ]
  },
  {
   "cell_type": "code",
   "execution_count": 14,
   "metadata": {},
   "outputs": [],
   "source": [
    "from dlf.linear import Linear\n",
    "from dlf.activation import LeakyReLU\n",
    "from dlf.base import Sequential\n",
    "from dlf.penalty import Dropout, BatchNorm\n",
    "from dlf.loss import CrossEntropy\n",
    "from dlf.optim import NAdam\n",
    "\n",
    "model = Sequential(\n",
    "    Linear(784, 300),\n",
    "    LeakyReLU(),\n",
    "    Dropout(.4),\n",
    "    BatchNorm(300),\n",
    "    Linear(300, 300),\n",
    "    LeakyReLU(),\n",
    "    Dropout(.4),\n",
    "    BatchNorm(300),\n",
    "    Linear(300, 300),\n",
    "    LeakyReLU(),\n",
    "    Dropout(.4),\n",
    "    BatchNorm(300),\n",
    "    Linear(300, 10),\n",
    ")\n",
    "\n",
    "criterion = CrossEntropy()\n",
    "optimizer = NAdam(learning_rate)"
   ]
  },
  {
   "cell_type": "markdown",
   "metadata": {},
   "source": [
    "Обучаем модель и собираем статистику."
   ]
  },
  {
   "cell_type": "code",
   "execution_count": 15,
   "metadata": {},
   "outputs": [
    {
     "name": "stdout",
     "output_type": "stream",
     "text": [
      "epoch 1\n",
      "accuracy_train: 0.8936\n",
      "accuracy_val: 0.9639\n",
      "epoch 2\n",
      "accuracy_train: 0.9426\n",
      "accuracy_val: 0.9722\n",
      "epoch 3\n",
      "accuracy_train: 0.9511\n",
      "accuracy_val: 0.9755\n",
      "epoch 4\n",
      "accuracy_train: 0.9582\n",
      "accuracy_val: 0.9746\n",
      "epoch 5\n",
      "accuracy_train: 0.9625\n",
      "accuracy_val: 0.9790\n",
      "epoch 6\n",
      "accuracy_train: 0.9665\n",
      "accuracy_val: 0.9790\n",
      "epoch 7\n",
      "accuracy_train: 0.9686\n",
      "accuracy_val: 0.9806\n",
      "epoch 8\n",
      "accuracy_train: 0.9692\n",
      "accuracy_val: 0.9814\n",
      "epoch 9\n",
      "accuracy_train: 0.9713\n",
      "accuracy_val: 0.9813\n",
      "epoch 10\n",
      "accuracy_train: 0.9730\n",
      "accuracy_val: 0.9808\n",
      "epoch 11\n",
      "accuracy_train: 0.9729\n",
      "accuracy_val: 0.9822\n",
      "epoch 12\n",
      "accuracy_train: 0.9758\n",
      "accuracy_val: 0.9829\n",
      "epoch 13\n",
      "accuracy_train: 0.9761\n",
      "accuracy_val: 0.9821\n",
      "epoch 14\n",
      "accuracy_train: 0.9774\n",
      "accuracy_val: 0.9817\n",
      "epoch 15\n",
      "accuracy_train: 0.9770\n",
      "accuracy_val: 0.9836\n",
      "epoch 16\n",
      "accuracy_train: 0.9784\n",
      "accuracy_val: 0.9831\n",
      "epoch 17\n",
      "accuracy_train: 0.9791\n",
      "accuracy_val: 0.9835\n",
      "epoch 18\n",
      "accuracy_train: 0.9793\n",
      "accuracy_val: 0.9831\n",
      "epoch 19\n",
      "accuracy_train: 0.9803\n",
      "accuracy_val: 0.9824\n",
      "epoch 20\n",
      "accuracy_train: 0.9809\n",
      "accuracy_val: 0.9836\n",
      "epoch 21\n",
      "accuracy_train: 0.9811\n",
      "accuracy_val: 0.9837\n",
      "epoch 22\n",
      "accuracy_train: 0.9818\n",
      "accuracy_val: 0.9846\n",
      "epoch 23\n",
      "accuracy_train: 0.9833\n",
      "accuracy_val: 0.9835\n",
      "epoch 24\n",
      "accuracy_train: 0.9832\n",
      "accuracy_val: 0.9846\n",
      "epoch 25\n",
      "accuracy_train: 0.9835\n",
      "accuracy_val: 0.9837\n",
      "epoch 26\n",
      "accuracy_train: 0.9848\n",
      "accuracy_val: 0.9848\n",
      "epoch 27\n",
      "accuracy_train: 0.9842\n",
      "accuracy_val: 0.9839\n",
      "epoch 28\n",
      "accuracy_train: 0.9849\n",
      "accuracy_val: 0.9857\n",
      "epoch 29\n",
      "accuracy_train: 0.9854\n",
      "accuracy_val: 0.9844\n",
      "epoch 30\n",
      "accuracy_train: 0.9851\n",
      "accuracy_val: 0.9849\n",
      "epoch 31\n",
      "accuracy_train: 0.9859\n",
      "accuracy_val: 0.9859\n",
      "epoch 32\n",
      "accuracy_train: 0.9865\n",
      "accuracy_val: 0.9851\n",
      "epoch 33\n",
      "accuracy_train: 0.9848\n",
      "accuracy_val: 0.9845\n",
      "epoch 34\n",
      "accuracy_train: 0.9864\n",
      "accuracy_val: 0.9854\n",
      "epoch 35\n",
      "accuracy_train: 0.9865\n",
      "accuracy_val: 0.9862\n",
      "epoch 36\n",
      "accuracy_train: 0.9864\n",
      "accuracy_val: 0.9852\n",
      "epoch 37\n",
      "accuracy_train: 0.9869\n",
      "accuracy_val: 0.9848\n",
      "epoch 38\n",
      "accuracy_train: 0.9883\n",
      "accuracy_val: 0.9857\n",
      "epoch 39\n",
      "accuracy_train: 0.9881\n",
      "accuracy_val: 0.9854\n",
      "epoch 40\n",
      "accuracy_train: 0.9884\n",
      "accuracy_val: 0.9858\n",
      "epoch 41\n",
      "accuracy_train: 0.9881\n",
      "accuracy_val: 0.9864\n",
      "epoch 42\n",
      "accuracy_train: 0.9890\n",
      "accuracy_val: 0.9852\n",
      "epoch 43\n",
      "accuracy_train: 0.9889\n",
      "accuracy_val: 0.9851\n",
      "epoch 44\n",
      "accuracy_train: 0.9892\n",
      "accuracy_val: 0.9846\n",
      "epoch 45\n",
      "accuracy_train: 0.9884\n",
      "accuracy_val: 0.9864\n",
      "epoch 46\n",
      "accuracy_train: 0.9885\n",
      "accuracy_val: 0.9859\n",
      "epoch 47\n",
      "accuracy_train: 0.9892\n",
      "accuracy_val: 0.9857\n",
      "epoch 48\n",
      "accuracy_train: 0.9897\n",
      "accuracy_val: 0.9856\n",
      "epoch 49\n",
      "accuracy_train: 0.9905\n",
      "accuracy_val: 0.9862\n",
      "epoch 50\n",
      "accuracy_train: 0.9894\n",
      "accuracy_val: 0.9852\n",
      "epoch 51\n",
      "accuracy_train: 0.9895\n",
      "accuracy_val: 0.9846\n",
      "epoch 52\n",
      "accuracy_train: 0.9904\n",
      "accuracy_val: 0.9846\n",
      "epoch 53\n",
      "accuracy_train: 0.9902\n",
      "accuracy_val: 0.9843\n",
      "epoch 54\n",
      "accuracy_train: 0.9900\n",
      "accuracy_val: 0.9852\n",
      "epoch 55\n",
      "accuracy_train: 0.9905\n",
      "accuracy_val: 0.9862\n",
      "epoch 56\n",
      "accuracy_train: 0.9907\n",
      "accuracy_val: 0.9845\n",
      "epoch 57\n",
      "accuracy_train: 0.9902\n",
      "accuracy_val: 0.9859\n",
      "epoch 58\n",
      "accuracy_train: 0.9906\n",
      "accuracy_val: 0.9856\n",
      "epoch 59\n",
      "accuracy_train: 0.9906\n",
      "accuracy_val: 0.9851\n",
      "epoch 60\n",
      "accuracy_train: 0.9913\n",
      "accuracy_val: 0.9851\n"
     ]
    }
   ],
   "source": [
    "from dlf.utils import accuracy, precision, recall, f_score, confusion_matrix\n",
    "\n",
    "history = {\n",
    "    \"train_loss\":[], \"val_loss\":[], \n",
    "    \"accuracy_train\":[], \"accuracy_val\":[],\n",
    "}\n",
    "\n",
    "for epoch in range(1, epochs+1):\n",
    "    # Train\n",
    "    train_losses = []\n",
    "    y_pred_l = []\n",
    "    y_true_l = []\n",
    "    for x, y in loader(X_train, y_train, batch_size=batch_size):\n",
    "        y_pred = model(x)\n",
    "        loss = criterion(y_pred, y)\n",
    "\n",
    "        grad = criterion.backward(y_pred, y)\n",
    "        model.backward(x, grad)\n",
    "        \n",
    "        optimizer(model.parameters(), model.grad_parameters())\n",
    "        if VERBOSITY > 1:\n",
    "            y_pred_l.append(y_pred)\n",
    "            y_true_l.append(y)\n",
    "        train_losses.append(loss)\n",
    "    accuracy_train = accuracy(\n",
    "        predict2class(np.vstack(y_pred_l)), predict2class(np.vstack(y_true_l))\n",
    "    ) if VERBOSITY > 1 else None\n",
    "\n",
    "    # Validation\n",
    "    val_losses = []\n",
    "    y_pred_l = []\n",
    "    y_true_l = []\n",
    "    model.eval()\n",
    "    for x, y in loader(X_test, y_test, batch_size=batch_size):\n",
    "        y_pred = model(x)\n",
    "        loss = criterion(y_pred, y)\n",
    "        if VERBOSITY > 0:\n",
    "            y_pred_l.append(y_pred)\n",
    "            y_true_l.append(y)\n",
    "        val_losses.append(loss)\n",
    "    model.train()\n",
    "\n",
    "    # metrics\n",
    "    if VERBOSITY > 0:\n",
    "        y_pred= predict2class(np.vstack(y_pred_l))\n",
    "        y_true = predict2class(np.vstack(y_true_l))\n",
    "        accuracy_val = accuracy(y_pred, y_true)\n",
    "        if VERBOSITY > 2:\n",
    "            f1_score = f_score(y_pred, y_true)\n",
    "            precision_score = precision(y_pred, y_true)\n",
    "            recall_score = recall(y_pred, y_true)\n",
    "    # history\n",
    "    history[\"train_loss\"].append(np.mean(np.hstack(train_losses)))\n",
    "    history[\"val_loss\"].append(np.mean(np.hstack(val_losses)))\n",
    "    if VERBOSITY > 0:\n",
    "        history[\"accuracy_val\"].append(accuracy_val)\n",
    "    if VERBOSITY > 1:\n",
    "        history[\"accuracy_train\"].append(accuracy_train)\n",
    "    #\n",
    "    metrics = dict(\n",
    "        f1_score=f1_score, \n",
    "        precision=precision_score, \n",
    "        recall=recall_score\n",
    "    ) if VERBOSITY > 2 else dict()\n",
    "    print(\"epoch %d\" % epoch)\n",
    "    if VERBOSITY > 0:\n",
    "        print_log(accuracy_val, accuracy_train, **metrics)\n",
    "    if CLEAR_OUTPUT:\n",
    "        clear_output(True)\n"
   ]
  },
  {
   "cell_type": "markdown",
   "metadata": {},
   "source": [
    "Выводим статистику."
   ]
  },
  {
   "cell_type": "code",
   "execution_count": 16,
   "metadata": {},
   "outputs": [
    {
     "data": {
      "image/png": "[encoded data removed]",
      "text/plain": [
       "<Figure size 720x360 with 2 Axes>"
      ]
     },
     "metadata": {
      "needs_background": "light"
     },
     "output_type": "display_data"
    },
    {
     "data": {
      "image/png": "[encoded data removed]",
      "text/plain": [
       "<Figure size 720x720 with 1 Axes>"
      ]
     },
     "metadata": {
      "needs_background": "light"
     },
     "output_type": "display_data"
    },
    {
     "name": "stdout",
     "output_type": "stream",
     "text": [
      "-------------------------------------------------- Confusion Matrix --------------------------------------------------\n",
      "          0         1         2         3         4         5         6         7         8         9 true\n",
      "0      1358         0         2         0         1         3         4         1         2         1\n",
      "1         1      1557         1         0         2         0         2         4         3         3\n",
      "2         2         1      1417         4         2         0         0         7         1         0\n",
      "3         1         1         2      1396         0        14         1         2         7         6\n",
      "4         1         0         1         0      1356         1         4         1         4        14\n",
      "5         1         0         1         2         0      1221         2         0         5         7\n",
      "6         3         4         0         0         3         9      1325         0         0         0\n",
      "7         1         3         5         4         2         1         0      1459         3         2\n",
      "8         1         3         1         4         2         2         1         2      1336         0\n",
      "9         4         0         0         3         8         2         0         7         4      1366\n",
      "pred\n"
     ]
    }
   ],
   "source": [
    "def plot_loss(figsize=(10, 5)):\n",
    "    _, (ax1, ax2) = plt.subplots(ncols=2, figsize=figsize)\n",
    "    ax1.plot(history[\"train_loss\"], c=\"blue\")\n",
    "    ax2.plot(history[\"val_loss\"], c=\"blue\")\n",
    "    ax1.set_title('Train loss')\n",
    "    ax2.set_title('Validation loss')\n",
    "    for ax in ax1, ax2:\n",
    "        ax.set_ylabel(\"loss\")\n",
    "        ax.set_xlabel(\"epoch\")\n",
    "    plt.show()\n",
    "    \n",
    "def plot_accuracy(figsize=(10, 10)):\n",
    "    fig, ax = plt.subplots(figsize=figsize)\n",
    "    if history.get(\"accuracy_train\", False):\n",
    "        ax.plot(history[\"accuracy_train\"], c=\"blue\", label=\"Train\")\n",
    "    ax.plot(history[\"accuracy_val\"], c=\"red\", label=\"validation\")\n",
    "    ax.set_title(\"Accuracy\")\n",
    "    ax.set_xlabel(\"epoch\")\n",
    "    ax.set_ylabel(\"accuracy\")\n",
    "    ax.legend()\n",
    "    plt.show()\n",
    "\n",
    "plot_loss()\n",
    "plot_accuracy()\n",
    "print(\"-\"*50, \"Confusion Matrix\", \"-\"*50)\n",
    "print_confusion_matrix(*confusion_matrix(y_pred, y_true))"
   ]
  }
 ],
 "metadata": {
  "kernelspec": {
   "display_name": "Python 3.9.12 ('base')",
   "language": "python",
   "name": "python3"
  },
  "language_info": {
   "codemirror_mode": {
    "name": "ipython",
    "version": 3
   },
   "file_extension": ".py",
   "mimetype": "text/x-python",
   "name": "python",
   "nbconvert_exporter": "python",
   "pygments_lexer": "ipython3",
   "version": "3.9.12"
  },
  "orig_nbformat": 4,
  "vscode": {
   "interpreter": {
    "hash": "88279d2366fe020547cde40dd65aa0e3aa662a6ec1f3ca12d88834876c85e1a6"
   }
  }
 },
 "nbformat": 4,
 "nbformat_minor": 2
}
